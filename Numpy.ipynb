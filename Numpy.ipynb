{
 "cells": [
  {
   "cell_type": "markdown",
   "id": "dcc94ca0-6a95-43fd-a650-b8ef6e822f50",
   "metadata": {},
   "source": [
    " NUMPY\n"
   ]
  },
  {
   "cell_type": "markdown",
   "id": "59bcde56-1e75-4c91-bce3-dbcd94fbeca3",
   "metadata": {},
   "source": [
    "why numpy?\n",
    "numpy is a multidimentional array, which can be used to sort all sorts of data 1D-array,2D array, 3D array etc"
   ]
  },
  {
   "cell_type": "raw",
   "id": "5072b93f-0665-4a73-953b-b2a0d11e202f",
   "metadata": {},
   "source": [
    "How are lists different from numpy?\n",
    "lists                           NumPy\n",
    "- lists are slow                - numpy is fast"
   ]
  },
  {
   "cell_type": "raw",
   "id": "826b3b6f-5a3e-4c9e-99fa-4d68fc9db1ff",
   "metadata": {},
   "source": [
    "Why is numpy Fatser?\n",
    "- because numpy uses fixed types "
   ]
  },
  {
   "cell_type": "code",
   "execution_count": 2,
   "id": "212251e3-4356-46a9-af5c-7349ff892f96",
   "metadata": {},
   "outputs": [],
   "source": [
    "import numpy as np"
   ]
  },
  {
   "cell_type": "markdown",
   "id": "711911ad-e20f-42ef-8072-13165d48e5d2",
   "metadata": {},
   "source": [
    "The basics"
   ]
  },
  {
   "cell_type": "code",
   "execution_count": 3,
   "id": "7e76634f-8b37-44a6-bc4e-4e72d7f0d3c8",
   "metadata": {},
   "outputs": [
    {
     "name": "stdout",
     "output_type": "stream",
     "text": [
      "[1 2 3 4]\n"
     ]
    }
   ],
   "source": [
    "a=np.array([1,2,3,4])\n",
    "print(a)"
   ]
  },
  {
   "cell_type": "code",
   "execution_count": 7,
   "id": "b6127038-953a-46d5-bcfa-6a290848e00c",
   "metadata": {},
   "outputs": [
    {
     "name": "stdout",
     "output_type": "stream",
     "text": [
      "[[1. 2. 3.]\n",
      " [5. 6. 7.]]\n"
     ]
    }
   ],
   "source": [
    "b=np.array([[1.0,2.0,3.0],[5.0,6.0,7.0]])\n",
    "print(b)"
   ]
  },
  {
   "cell_type": "code",
   "execution_count": 8,
   "id": "810d1d58-04c1-4fe0-a050-f96fc2c86b22",
   "metadata": {},
   "outputs": [
    {
     "data": {
      "text/plain": [
       "(4,)"
      ]
     },
     "execution_count": 8,
     "metadata": {},
     "output_type": "execute_result"
    }
   ],
   "source": [
    "#Get dimesion\n",
    "a.shape"
   ]
  },
  {
   "cell_type": "code",
   "execution_count": 9,
   "id": "b68bfc3c-9ea8-43f6-a7c9-69e4aa99c7da",
   "metadata": {},
   "outputs": [
    {
     "data": {
      "text/plain": [
       "(2, 3)"
      ]
     },
     "execution_count": 9,
     "metadata": {},
     "output_type": "execute_result"
    }
   ],
   "source": [
    "b.shape"
   ]
  },
  {
   "cell_type": "code",
   "execution_count": 10,
   "id": "5cec0c13-599e-4601-b5f1-17eeec1f97c8",
   "metadata": {},
   "outputs": [
    {
     "data": {
      "text/plain": [
       "dtype('int32')"
      ]
     },
     "execution_count": 10,
     "metadata": {},
     "output_type": "execute_result"
    }
   ],
   "source": [
    "#get type\n",
    "a.dtype"
   ]
  },
  {
   "cell_type": "code",
   "execution_count": 11,
   "id": "56faaa3b-393f-4218-acd1-61360b32a641",
   "metadata": {},
   "outputs": [
    {
     "data": {
      "text/plain": [
       "dtype('float64')"
      ]
     },
     "execution_count": 11,
     "metadata": {},
     "output_type": "execute_result"
    }
   ],
   "source": [
    "b.dtype"
   ]
  },
  {
   "cell_type": "code",
   "execution_count": 12,
   "id": "d27d27a4-09c9-4992-9f68-2133276291a9",
   "metadata": {},
   "outputs": [
    {
     "data": {
      "text/plain": [
       "4"
      ]
     },
     "execution_count": 12,
     "metadata": {},
     "output_type": "execute_result"
    }
   ],
   "source": [
    "#get size\n",
    "a.itemsize"
   ]
  },
  {
   "cell_type": "code",
   "execution_count": 13,
   "id": "95fe1b04-8aca-495d-a404-59487a2bf6df",
   "metadata": {},
   "outputs": [
    {
     "data": {
      "text/plain": [
       "8"
      ]
     },
     "execution_count": 13,
     "metadata": {},
     "output_type": "execute_result"
    }
   ],
   "source": [
    "b.itemsize"
   ]
  },
  {
   "cell_type": "code",
   "execution_count": 17,
   "id": "f8e916f5-ccaa-4ed1-858b-584679d99f72",
   "metadata": {},
   "outputs": [
    {
     "data": {
      "text/plain": [
       "16"
      ]
     },
     "execution_count": 17,
     "metadata": {},
     "output_type": "execute_result"
    }
   ],
   "source": [
    "#Get total size\n",
    "a.size\n",
    "a.nbytes"
   ]
  },
  {
   "cell_type": "code",
   "execution_count": 18,
   "id": "b17a4b17-15c0-4898-8da0-9c6e7d1c8b5d",
   "metadata": {},
   "outputs": [
    {
     "data": {
      "text/plain": [
       "48"
      ]
     },
     "execution_count": 18,
     "metadata": {},
     "output_type": "execute_result"
    }
   ],
   "source": [
    "b.size \n",
    "b.nbytes #b.size*b.itemsize"
   ]
  },
  {
   "cell_type": "markdown",
   "id": "1af94579-be5d-4d77-a958-7b5685c2681b",
   "metadata": {},
   "source": [
    "Accessing/ Changing specific elemeents, rows,columns,etc"
   ]
  },
  {
   "cell_type": "code",
   "execution_count": 19,
   "id": "bcf2ba81-3350-43b5-b9bb-0cfdcba3c5b7",
   "metadata": {},
   "outputs": [
    {
     "name": "stdout",
     "output_type": "stream",
     "text": [
      "[[1 2 3 4 5 6]\n",
      " [8 9 5 4 3 3]]\n"
     ]
    }
   ],
   "source": [
    "a=np.array([[1,2,3,4,5,6],[8,9,5,4,3,3]])\n",
    "print(a)\n"
   ]
  },
  {
   "cell_type": "code",
   "execution_count": 29,
   "id": "dabe6cdb-9685-4b80-9b39-40dc1e251869",
   "metadata": {},
   "outputs": [
    {
     "name": "stdout",
     "output_type": "stream",
     "text": [
      "2\n"
     ]
    }
   ],
   "source": [
    "#Get the specific element [r,c]\n",
    "print(a[0,1]) "
   ]
  },
  {
   "cell_type": "code",
   "execution_count": 24,
   "id": "0d91434c-5f80-4aaa-99c3-2a390d58c6e9",
   "metadata": {},
   "outputs": [
    {
     "data": {
      "text/plain": [
       "4"
      ]
     },
     "execution_count": 24,
     "metadata": {},
     "output_type": "execute_result"
    }
   ],
   "source": [
    "a[1,-3]"
   ]
  },
  {
   "cell_type": "code",
   "execution_count": 25,
   "id": "a08ce530-dcbd-4571-a4ff-5275d3801641",
   "metadata": {},
   "outputs": [],
   "source": [
    "#Get a specific row"
   ]
  },
  {
   "cell_type": "code",
   "execution_count": 34,
   "id": "11d170b1-d6c5-4618-8db5-cf7a7c2a2aa6",
   "metadata": {},
   "outputs": [
    {
     "data": {
      "text/plain": [
       "array([1, 2, 3, 4, 5, 6])"
      ]
     },
     "execution_count": 34,
     "metadata": {},
     "output_type": "execute_result"
    }
   ],
   "source": [
    "a[0, :]\n",
    "#a[1,:]"
   ]
  },
  {
   "cell_type": "code",
   "execution_count": 31,
   "id": "3e0fa419-dcee-4988-80a3-e80636d5fc29",
   "metadata": {},
   "outputs": [
    {
     "data": {
      "text/plain": [
       "array([1., 2., 3.])"
      ]
     },
     "execution_count": 31,
     "metadata": {},
     "output_type": "execute_result"
    }
   ],
   "source": [
    "b[0,:]"
   ]
  },
  {
   "cell_type": "code",
   "execution_count": 35,
   "id": "d0a07f83-dd82-433d-b507-d8256fa3d96b",
   "metadata": {},
   "outputs": [
    {
     "data": {
      "text/plain": [
       "array([3, 5])"
      ]
     },
     "execution_count": 35,
     "metadata": {},
     "output_type": "execute_result"
    }
   ],
   "source": [
    "#get a specific column\n",
    "a[:,2]"
   ]
  },
  {
   "cell_type": "code",
   "execution_count": 36,
   "id": "175d50d0-a6ca-4b3e-818b-7d5072f74773",
   "metadata": {},
   "outputs": [
    {
     "data": {
      "text/plain": [
       "array([2., 6.])"
      ]
     },
     "execution_count": 36,
     "metadata": {},
     "output_type": "execute_result"
    }
   ],
   "source": [
    "b[:,1]"
   ]
  },
  {
   "cell_type": "code",
   "execution_count": 37,
   "id": "a568473b-608d-44f3-8929-1ac503d4fcf0",
   "metadata": {},
   "outputs": [],
   "source": [
    "#getting a little more fancy [startindex:endindex:stepsize]"
   ]
  },
  {
   "cell_type": "code",
   "execution_count": 39,
   "id": "6f70e5e2-73f2-4558-92a9-688d56da36f5",
   "metadata": {},
   "outputs": [
    {
     "name": "stdout",
     "output_type": "stream",
     "text": [
      "[[1 2 3 3 4 5 6 7 8 9]\n",
      " [2 3 4 5 7 8 6 5 4 3]]\n"
     ]
    }
   ],
   "source": [
    "c=np.array([[1,2,3,3,4,5,6,7,8,9],[2,3,4,5,7,8,6,5,4,3]])\n",
    "print(c)"
   ]
  },
  {
   "cell_type": "code",
   "execution_count": 40,
   "id": "971063b6-c1b5-4efc-8c67-a2531188db54",
   "metadata": {},
   "outputs": [
    {
     "data": {
      "text/plain": [
       "array([3, 3, 4, 5])"
      ]
     },
     "execution_count": 40,
     "metadata": {},
     "output_type": "execute_result"
    }
   ],
   "source": [
    "c[0,2:6:1]  #here 0 is row specification"
   ]
  },
  {
   "cell_type": "code",
   "execution_count": 41,
   "id": "e797aae0-fa8c-43ef-80b6-ab2768afe38c",
   "metadata": {},
   "outputs": [
    {
     "data": {
      "text/plain": [
       "array([4, 5, 7, 8])"
      ]
     },
     "execution_count": 41,
     "metadata": {},
     "output_type": "execute_result"
    }
   ],
   "source": [
    "c[1,2:6:1]"
   ]
  },
  {
   "cell_type": "code",
   "execution_count": 42,
   "id": "1559c960-a25a-400c-82c7-6735f9210d64",
   "metadata": {},
   "outputs": [],
   "source": [
    "#changing the elements in the array"
   ]
  },
  {
   "cell_type": "code",
   "execution_count": 43,
   "id": "b5932a24-f87a-4c62-9faa-0651e3bacff3",
   "metadata": {},
   "outputs": [
    {
     "name": "stdout",
     "output_type": "stream",
     "text": [
      "[[ 1  2  3  3  4  5  6  7  8  9]\n",
      " [ 2  3  4  5  7 55  6  5  4  3]]\n"
     ]
    }
   ],
   "source": [
    "c[1,5]=55\n",
    "print(c)\n",
    "\n",
    "c[:,2]=5\n",
    "print(a)"
   ]
  },
  {
   "cell_type": "code",
   "execution_count": 46,
   "id": "c182b401-fe8a-42cc-a021-1e2bdf1b962e",
   "metadata": {},
   "outputs": [
    {
     "name": "stdout",
     "output_type": "stream",
     "text": [
      "[[ 1  2 99  3  4  5  6  7  8  9]\n",
      " [ 2  3 99  5  7 55  6  5  4  3]]\n"
     ]
    }
   ],
   "source": [
    "c[:,2]=99\n",
    "print(c)"
   ]
  },
  {
   "cell_type": "code",
   "execution_count": 47,
   "id": "6b6cdf50-f6fe-46bd-bf79-a530fb80b231",
   "metadata": {},
   "outputs": [
    {
     "name": "stdout",
     "output_type": "stream",
     "text": [
      "[[  1   2   1   3   4   5   6   7   8   9]\n",
      " [  2   3   2   5   7 200   6   5   4   3]]\n"
     ]
    }
   ],
   "source": [
    "c[1,5]=200\n",
    "c[:,2]=[1,2]\n",
    "print(c)"
   ]
  },
  {
   "cell_type": "markdown",
   "id": "7463c5df-7288-47e5-841f-670dcbf1d98d",
   "metadata": {},
   "source": [
    "3D examples"
   ]
  },
  {
   "cell_type": "code",
   "execution_count": 49,
   "id": "05f34921-3c8e-4559-800a-d25388ef8982",
   "metadata": {},
   "outputs": [
    {
     "name": "stdout",
     "output_type": "stream",
     "text": [
      "[[[1 2]\n",
      "  [3 4]]\n",
      "\n",
      " [[6 7]\n",
      "  [8 9]]]\n"
     ]
    }
   ],
   "source": [
    "d=np.array([[[1,2],[3,4]],[[6,7],[8,9]]])\n",
    "print(d)"
   ]
  },
  {
   "cell_type": "code",
   "execution_count": 50,
   "id": "6c7fd5c9-b0d7-4c95-9bb4-68ebf0905433",
   "metadata": {},
   "outputs": [
    {
     "data": {
      "text/plain": [
       "4"
      ]
     },
     "execution_count": 50,
     "metadata": {},
     "output_type": "execute_result"
    }
   ],
   "source": [
    "#get a specific element(work oustside in)\n",
    "d[0,1,1]"
   ]
  },
  {
   "cell_type": "code",
   "execution_count": 51,
   "id": "88060990-4b04-4a54-b115-30df459dc169",
   "metadata": {},
   "outputs": [
    {
     "data": {
      "text/plain": [
       "array([[3, 4],\n",
       "       [8, 9]])"
      ]
     },
     "execution_count": 51,
     "metadata": {},
     "output_type": "execute_result"
    }
   ],
   "source": [
    "d[:,1,:]"
   ]
  },
  {
   "cell_type": "code",
   "execution_count": 52,
   "id": "0e4862b8-f7a3-4e9d-987c-95c627c51b0d",
   "metadata": {},
   "outputs": [
    {
     "data": {
      "text/plain": [
       "array([[1, 2],\n",
       "       [6, 7]])"
      ]
     },
     "execution_count": 52,
     "metadata": {},
     "output_type": "execute_result"
    }
   ],
   "source": [
    "d[:,0,:]"
   ]
  },
  {
   "cell_type": "code",
   "execution_count": 54,
   "id": "44224c67-e497-438f-ba40-6657f093cec6",
   "metadata": {},
   "outputs": [
    {
     "name": "stdout",
     "output_type": "stream",
     "text": [
      "[[[1 2]\n",
      "  [9 9]]\n",
      "\n",
      " [[6 7]\n",
      "  [6 6]]]\n"
     ]
    }
   ],
   "source": [
    "#replace\n",
    "d[:,1,::]=[[9,9],[6,6]]\n",
    "print(d)"
   ]
  },
  {
   "cell_type": "code",
   "execution_count": 56,
   "id": "f620b090-3947-41be-81f6-942ee2b4f671",
   "metadata": {},
   "outputs": [],
   "source": [
    "#Initilizing Different type of Arrays"
   ]
  },
  {
   "cell_type": "code",
   "execution_count": 57,
   "id": "fe6066f1-28f2-473b-8045-ee6c129511cb",
   "metadata": {},
   "outputs": [
    {
     "data": {
      "text/plain": [
       "array([0., 0., 0., 0., 0.])"
      ]
     },
     "execution_count": 57,
     "metadata": {},
     "output_type": "execute_result"
    }
   ],
   "source": [
    "#All 0s matrix\n",
    "np.zeros(5)"
   ]
  },
  {
   "cell_type": "code",
   "execution_count": 58,
   "id": "0f11084e-1371-43b6-bb0d-a0f7bd7f2f50",
   "metadata": {},
   "outputs": [
    {
     "data": {
      "text/plain": [
       "array([[0., 0., 0.],\n",
       "       [0., 0., 0.]])"
      ]
     },
     "execution_count": 58,
     "metadata": {},
     "output_type": "execute_result"
    }
   ],
   "source": [
    "np.zeros((2,3))"
   ]
  },
  {
   "cell_type": "code",
   "execution_count": 61,
   "id": "ace7f68b-524c-48b7-932b-67c7e5a19449",
   "metadata": {},
   "outputs": [
    {
     "data": {
      "text/plain": [
       "array([[[1, 1],\n",
       "        [1, 1]],\n",
       "\n",
       "       [[1, 1],\n",
       "        [1, 1]],\n",
       "\n",
       "       [[1, 1],\n",
       "        [1, 1]],\n",
       "\n",
       "       [[1, 1],\n",
       "        [1, 1]]])"
      ]
     },
     "execution_count": 61,
     "metadata": {},
     "output_type": "execute_result"
    }
   ],
   "source": [
    "#all 1s matrix\n",
    "np.ones((4,2,2),dtype='int32')"
   ]
  },
  {
   "cell_type": "code",
   "execution_count": 67,
   "id": "916e94c6-25f1-4017-8a78-a95c38ca732e",
   "metadata": {},
   "outputs": [
    {
     "data": {
      "text/plain": [
       "array([[1, 1],\n",
       "       [1, 1]])"
      ]
     },
     "execution_count": 67,
     "metadata": {},
     "output_type": "execute_result"
    }
   ],
   "source": [
    "np.ones((2,2),dtype='int32')"
   ]
  },
  {
   "cell_type": "code",
   "execution_count": 69,
   "id": "c9a2c9b4-c43e-48c2-90ac-0dc51218a197",
   "metadata": {},
   "outputs": [
    {
     "data": {
      "text/plain": [
       "array([[99, 99],\n",
       "       [99, 99]])"
      ]
     },
     "execution_count": 69,
     "metadata": {},
     "output_type": "execute_result"
    }
   ],
   "source": [
    "#Any other number\n",
    "np.full((2,2),99)"
   ]
  },
  {
   "cell_type": "code",
   "execution_count": 71,
   "id": "335ca897-cfee-48eb-8d9b-dd7fc86c4888",
   "metadata": {},
   "outputs": [
    {
     "data": {
      "text/plain": [
       "array([[4, 4, 4, 4, 4, 4, 4, 4, 4, 4],\n",
       "       [4, 4, 4, 4, 4, 4, 4, 4, 4, 4]])"
      ]
     },
     "execution_count": 71,
     "metadata": {},
     "output_type": "execute_result"
    }
   ],
   "source": [
    "#Any other numeber (full_like)\n",
    "np.full(c.shape,4)"
   ]
  },
  {
   "cell_type": "code",
   "execution_count": 72,
   "id": "582c7db5-6c30-46ff-adbd-b170b75ff843",
   "metadata": {},
   "outputs": [
    {
     "data": {
      "text/plain": [
       "array([[4, 4, 4, 4, 4, 4],\n",
       "       [4, 4, 4, 4, 4, 4]])"
      ]
     },
     "execution_count": 72,
     "metadata": {},
     "output_type": "execute_result"
    }
   ],
   "source": [
    "np.full_like(a,4)"
   ]
  },
  {
   "cell_type": "code",
   "execution_count": 77,
   "id": "4e51bede-702c-4c61-a462-4d8f95779a90",
   "metadata": {},
   "outputs": [
    {
     "data": {
      "text/plain": [
       "array([[[0.43797422, 0.33303894, 0.97744853],\n",
       "        [0.7632448 , 0.7066426 , 0.46518539],\n",
       "        [0.13844252, 0.96918824, 0.62369087]],\n",
       "\n",
       "       [[0.47164083, 0.38473312, 0.82841019],\n",
       "        [0.57198359, 0.27538472, 0.06735207],\n",
       "        [0.35805355, 0.2218006 , 0.34026508]]])"
      ]
     },
     "execution_count": 77,
     "metadata": {},
     "output_type": "execute_result"
    }
   ],
   "source": [
    "#Random decimal numbers\n",
    "np.random.rand(2,3,3)"
   ]
  },
  {
   "cell_type": "code",
   "execution_count": 78,
   "id": "7a7730d1-00dd-4346-9b89-c4bdf444aba2",
   "metadata": {},
   "outputs": [
    {
     "data": {
      "text/plain": [
       "array([[0.17822078, 0.82587072, 0.88722458, 0.24027883, 0.54439027,\n",
       "        0.22981817],\n",
       "       [0.32095492, 0.79061399, 0.43930162, 0.77474088, 0.85187786,\n",
       "        0.68471593]])"
      ]
     },
     "execution_count": 78,
     "metadata": {},
     "output_type": "execute_result"
    }
   ],
   "source": [
    "np.random.random_sample(a.shape)"
   ]
  },
  {
   "cell_type": "code",
   "execution_count": 81,
   "id": "94819165-5c7b-447a-90ce-be3a9685836d",
   "metadata": {},
   "outputs": [
    {
     "data": {
      "text/plain": [
       "array([[1, 4, 2],\n",
       "       [2, 2, 1],\n",
       "       [5, 5, 5]])"
      ]
     },
     "execution_count": 81,
     "metadata": {},
     "output_type": "execute_result"
    }
   ],
   "source": [
    "#Random integer values\n",
    "np.random.randint(1,6,size=(3,3))"
   ]
  },
  {
   "cell_type": "code",
   "execution_count": 82,
   "id": "7aa8fd63-dd6f-45b3-9c9f-76bda517513e",
   "metadata": {},
   "outputs": [
    {
     "data": {
      "text/plain": [
       "array([[1., 0., 0.],\n",
       "       [0., 1., 0.],\n",
       "       [0., 0., 1.]])"
      ]
     },
     "execution_count": 82,
     "metadata": {},
     "output_type": "execute_result"
    }
   ],
   "source": [
    "#identity matrix\n",
    "np.identity(3)"
   ]
  },
  {
   "cell_type": "code",
   "execution_count": 86,
   "id": "a3e47e78-9f62-427f-85bc-f471061be385",
   "metadata": {},
   "outputs": [
    {
     "name": "stdout",
     "output_type": "stream",
     "text": [
      "[[1 2 3]\n",
      " [1 2 3]\n",
      " [1 2 3]]\n"
     ]
    }
   ],
   "source": [
    "#Repeat an array \n",
    "arr=np.array([[1,2,3]])\n",
    "r1=np.repeat(arr,3,axis=0)\n",
    "print(r1)"
   ]
  },
  {
   "cell_type": "code",
   "execution_count": 90,
   "id": "20f2f020-7acd-4f25-aec5-29f3194f23e2",
   "metadata": {},
   "outputs": [
    {
     "name": "stdout",
     "output_type": "stream",
     "text": [
      "[[1 1 1 1 1]\n",
      " [1 1 1 1 1]\n",
      " [1 1 1 1 1]\n",
      " [1 1 1 1 1]\n",
      " [1 1 1 1 1]]\n"
     ]
    }
   ],
   "source": [
    "#EXAMPLE \n",
    "output=np.ones((5,5),dtype='int32')\n",
    "print(output)"
   ]
  },
  {
   "cell_type": "code",
   "execution_count": 97,
   "id": "89071c43-57d3-4368-9624-387a81b22274",
   "metadata": {},
   "outputs": [
    {
     "name": "stdout",
     "output_type": "stream",
     "text": [
      "[[0 0 0]\n",
      " [0 0 0]\n",
      " [0 0 0]]\n"
     ]
    }
   ],
   "source": [
    "z=np.zeros((3,3),dtype='int32')\n",
    "print(z)"
   ]
  },
  {
   "cell_type": "code",
   "execution_count": 99,
   "id": "caaeb076-948b-473b-b237-b0b7a4ff3417",
   "metadata": {},
   "outputs": [
    {
     "name": "stdout",
     "output_type": "stream",
     "text": [
      "[[0 0 0]\n",
      " [0 9 0]\n",
      " [0 0 0]]\n"
     ]
    }
   ],
   "source": [
    "z[1,1]=9\n",
    "print(z)"
   ]
  },
  {
   "cell_type": "code",
   "execution_count": 100,
   "id": "e2d44a97-f786-46ca-954d-8fe29a0dfb42",
   "metadata": {},
   "outputs": [
    {
     "name": "stdout",
     "output_type": "stream",
     "text": [
      "[[1 1 1 1 1]\n",
      " [1 0 0 0 1]\n",
      " [1 0 9 0 1]\n",
      " [1 0 0 0 1]\n",
      " [1 1 1 1 1]]\n"
     ]
    }
   ],
   "source": [
    "output[1:4,1:4]=z\n",
    "print(output)"
   ]
  },
  {
   "cell_type": "code",
   "execution_count": 101,
   "id": "0aad3752-d4a0-4651-ae9f-fc033760183e",
   "metadata": {},
   "outputs": [],
   "source": [
    " ################## Be carefull when copying arrays#################"
   ]
  },
  {
   "cell_type": "code",
   "execution_count": 104,
   "id": "7524cd1a-bbb7-4e3e-8212-92aa8985dcf4",
   "metadata": {},
   "outputs": [
    {
     "name": "stdout",
     "output_type": "stream",
     "text": [
      "[200   3   4   5]\n"
     ]
    }
   ],
   "source": [
    "a=np.array([1,3,4,5])\n",
    "b=a\n",
    "b[0]=200\n",
    "print(b)"
   ]
  },
  {
   "cell_type": "code",
   "execution_count": 105,
   "id": "61d8274f-7ab6-4686-84fd-ab60265d06de",
   "metadata": {},
   "outputs": [
    {
     "name": "stdout",
     "output_type": "stream",
     "text": [
      "[200   3   4   5]\n"
     ]
    }
   ],
   "source": [
    "print(a) #as we can see that the same change as been made to a also soo need to be very care full while copying"
   ]
  },
  {
   "cell_type": "code",
   "execution_count": 107,
   "id": "dfe35b38-2a54-4789-a504-8423537a1c88",
   "metadata": {},
   "outputs": [
    {
     "name": "stdout",
     "output_type": "stream",
     "text": [
      "[200   3   4   5]\n",
      "[1 3 4 5]\n"
     ]
    }
   ],
   "source": [
    "#we can prevent this by using copy() function\n",
    "a=np.array([1,3,4,5])\n",
    "b=a.copy()\n",
    "b[0]=200\n",
    "print(b)\n",
    "print(a)"
   ]
  },
  {
   "cell_type": "markdown",
   "id": "d4e8c814-1125-483a-b4c2-8896e0806a72",
   "metadata": {},
   "source": [
    "#MATHEMATICS"
   ]
  },
  {
   "cell_type": "code",
   "execution_count": 108,
   "id": "63ea8743-a717-4a41-9bf0-a0d61b785c61",
   "metadata": {},
   "outputs": [
    {
     "name": "stdout",
     "output_type": "stream",
     "text": [
      "[1 3 4 5 6]\n"
     ]
    }
   ],
   "source": [
    "a=np.array([1,3,4,5,6])\n",
    "print(a)"
   ]
  },
  {
   "cell_type": "code",
   "execution_count": 109,
   "id": "43ec3ec8-12d0-482a-b5d3-b7396478f534",
   "metadata": {},
   "outputs": [
    {
     "data": {
      "text/plain": [
       "array([3, 5, 6, 7, 8])"
      ]
     },
     "execution_count": 109,
     "metadata": {},
     "output_type": "execute_result"
    }
   ],
   "source": [
    "a+2"
   ]
  },
  {
   "cell_type": "code",
   "execution_count": 110,
   "id": "7d19d882-32ef-45b2-b9fb-9927c391023b",
   "metadata": {},
   "outputs": [
    {
     "data": {
      "text/plain": [
       "array([-1,  1,  2,  3,  4])"
      ]
     },
     "execution_count": 110,
     "metadata": {},
     "output_type": "execute_result"
    }
   ],
   "source": [
    "a-2"
   ]
  },
  {
   "cell_type": "code",
   "execution_count": 111,
   "id": "1db13ecc-ee8f-47a6-a16f-9aca55955ea7",
   "metadata": {},
   "outputs": [
    {
     "data": {
      "text/plain": [
       "array([ 2,  6,  8, 10, 12])"
      ]
     },
     "execution_count": 111,
     "metadata": {},
     "output_type": "execute_result"
    }
   ],
   "source": [
    "a*2"
   ]
  },
  {
   "cell_type": "code",
   "execution_count": 112,
   "id": "b31ae99f-0bc8-4611-892d-81db6fae432d",
   "metadata": {},
   "outputs": [
    {
     "data": {
      "text/plain": [
       "array([0.5, 1.5, 2. , 2.5, 3. ])"
      ]
     },
     "execution_count": 112,
     "metadata": {},
     "output_type": "execute_result"
    }
   ],
   "source": [
    "a/2\n"
   ]
  },
  {
   "cell_type": "code",
   "execution_count": 113,
   "id": "3d01282f-fc21-4e54-82e5-c801eca476c1",
   "metadata": {},
   "outputs": [
    {
     "data": {
      "text/plain": [
       "array([ 7, 10, 12, 14,  9])"
      ]
     },
     "execution_count": 113,
     "metadata": {},
     "output_type": "execute_result"
    }
   ],
   "source": [
    "b=np.array([6,7,8,9,3])\n",
    "a+b\n"
   ]
  },
  {
   "cell_type": "code",
   "execution_count": 114,
   "id": "0b14f7ee-18f9-4221-82b2-8fe887f34ffc",
   "metadata": {},
   "outputs": [
    {
     "data": {
      "text/plain": [
       "array([ 0.84147098,  0.14112001, -0.7568025 , -0.95892427, -0.2794155 ])"
      ]
     },
     "execution_count": 114,
     "metadata": {},
     "output_type": "execute_result"
    }
   ],
   "source": [
    "# Take sin or cos\n",
    "np.sin(a)"
   ]
  },
  {
   "cell_type": "code",
   "execution_count": 115,
   "id": "784587f8-33f0-41c8-acd1-72fb11557049",
   "metadata": {},
   "outputs": [],
   "source": [
    "#######Linear algebra######"
   ]
  },
  {
   "cell_type": "code",
   "execution_count": 119,
   "id": "3e965951-5abe-4fea-a78e-b9f4ba151433",
   "metadata": {},
   "outputs": [
    {
     "name": "stdout",
     "output_type": "stream",
     "text": [
      "[[1. 1. 1.]\n",
      " [1. 1. 1.]]\n",
      "[[3 3 3 3]\n",
      " [3 3 3 3]\n",
      " [3 3 3 3]]\n"
     ]
    },
    {
     "data": {
      "text/plain": [
       "array([[9., 9., 9., 9.],\n",
       "       [9., 9., 9., 9.]])"
      ]
     },
     "execution_count": 119,
     "metadata": {},
     "output_type": "execute_result"
    }
   ],
   "source": [
    "c=np.ones((2,3))\n",
    "print(c)\n",
    "d=np.full((3,4),3)\n",
    "print(d)\n",
    "np.matmul(c,d)"
   ]
  },
  {
   "cell_type": "code",
   "execution_count": 120,
   "id": "b1d4d7c9-3031-43f6-a1c8-e37e7bb407ec",
   "metadata": {},
   "outputs": [
    {
     "name": "stdout",
     "output_type": "stream",
     "text": [
      "[55  6  7  4]\n"
     ]
    }
   ],
   "source": [
    "######### Statistics###############\n",
    "stat=np.array([55,6,7,4])\n",
    "print(stat)"
   ]
  },
  {
   "cell_type": "code",
   "execution_count": 122,
   "id": "6172643c-3ccb-464a-a784-cbf9ef1a55f9",
   "metadata": {},
   "outputs": [
    {
     "data": {
      "text/plain": [
       "4"
      ]
     },
     "execution_count": 122,
     "metadata": {},
     "output_type": "execute_result"
    }
   ],
   "source": [
    "np.min(stat)\n",
    "#np.max(stat)"
   ]
  },
  {
   "cell_type": "code",
   "execution_count": 123,
   "id": "bb936795-498d-488e-b316-7d0d41dc103f",
   "metadata": {},
   "outputs": [
    {
     "data": {
      "text/plain": [
       "55"
      ]
     },
     "execution_count": 123,
     "metadata": {},
     "output_type": "execute_result"
    }
   ],
   "source": [
    "np.max(stat)"
   ]
  },
  {
   "cell_type": "code",
   "execution_count": 124,
   "id": "6b80a572-9945-4b3b-a1ee-55591845bdb5",
   "metadata": {},
   "outputs": [
    {
     "data": {
      "text/plain": [
       "72"
      ]
     },
     "execution_count": 124,
     "metadata": {},
     "output_type": "execute_result"
    }
   ],
   "source": [
    "np.sum(stat)"
   ]
  },
  {
   "cell_type": "markdown",
   "id": "ee257d04-1879-4720-a3f4-a0f28349661d",
   "metadata": {},
   "source": [
    "Reorganizing arrays"
   ]
  },
  {
   "cell_type": "code",
   "execution_count": 130,
   "id": "d23cb41e-16eb-40c8-ad00-f7d98fec1df0",
   "metadata": {},
   "outputs": [
    {
     "name": "stdout",
     "output_type": "stream",
     "text": [
      "[3 4 5 6]\n"
     ]
    }
   ],
   "source": [
    "before=np.array([3,4,5,6])\n",
    "print(before)"
   ]
  },
  {
   "cell_type": "code",
   "execution_count": 131,
   "id": "b808fbae-dc44-489c-a13a-c914a21958bf",
   "metadata": {},
   "outputs": [
    {
     "name": "stdout",
     "output_type": "stream",
     "text": [
      "[[3 4]\n",
      " [5 6]]\n"
     ]
    }
   ],
   "source": [
    "after=before.reshape((2,2))\n",
    "print(after)"
   ]
  },
  {
   "cell_type": "code",
   "execution_count": 135,
   "id": "444ad8e0-767c-430a-9a46-d32b7af8a05d",
   "metadata": {},
   "outputs": [
    {
     "data": {
      "text/plain": [
       "array([[5, 6, 7, 8],\n",
       "       [1, 2, 3, 4],\n",
       "       [5, 6, 7, 8]])"
      ]
     },
     "execution_count": 135,
     "metadata": {},
     "output_type": "execute_result"
    }
   ],
   "source": [
    "#Vertically stacking of array\n",
    "v1=np.array([1,2,3,4])\n",
    "v2=np.array([5,6,7,8])\n",
    "np.vstack([v2,v1,v2])"
   ]
  },
  {
   "cell_type": "code",
   "execution_count": 136,
   "id": "b7aaf3b0-9549-4fcf-b069-ecfdf9e73730",
   "metadata": {},
   "outputs": [
    {
     "data": {
      "text/plain": [
       "array([5, 6, 7, 8, 1, 2, 3, 4])"
      ]
     },
     "execution_count": 136,
     "metadata": {},
     "output_type": "execute_result"
    }
   ],
   "source": [
    "np.hstack([v2,v1])"
   ]
  },
  {
   "cell_type": "markdown",
   "id": "4532d491-4d72-46b0-8a68-3899fffb8c69",
   "metadata": {},
   "source": [
    "Load data from file"
   ]
  },
  {
   "cell_type": "code",
   "execution_count": 139,
   "id": "269cec49-0bb6-4743-872c-6cca43dc52cb",
   "metadata": {},
   "outputs": [
    {
     "name": "stdout",
     "output_type": "stream",
     "text": [
      "[ 1.  2.  3.  4.  5.  6.  7.  6.  7. 78.  9.  0.  7.  5.  4.]\n"
     ]
    }
   ],
   "source": [
    "filedata=np.genfromtxt('data.txt',delimiter=',')\n",
    "print(filedata)\n"
   ]
  },
  {
   "cell_type": "code",
   "execution_count": 140,
   "id": "9e99f5a4-0c7b-4d9f-a1e2-539769707c85",
   "metadata": {},
   "outputs": [
    {
     "data": {
      "text/plain": [
       "array([ 1,  2,  3,  4,  5,  6,  7,  6,  7, 78,  9,  0,  7,  5,  4])"
      ]
     },
     "execution_count": 140,
     "metadata": {},
     "output_type": "execute_result"
    }
   ],
   "source": [
    "filedata.astype('int32')"
   ]
  },
  {
   "cell_type": "markdown",
   "id": "64a3804a-32f8-46b6-add0-11a45860191b",
   "metadata": {},
   "source": [
    "Boolean masking and advanced indexing"
   ]
  },
  {
   "cell_type": "code",
   "execution_count": 141,
   "id": "e91c0a2a-567d-41d9-817d-4a74ad158f54",
   "metadata": {},
   "outputs": [
    {
     "data": {
      "text/plain": [
       "array([False, False, False, False, False, False,  True, False,  True,\n",
       "        True,  True, False,  True, False, False])"
      ]
     },
     "execution_count": 141,
     "metadata": {},
     "output_type": "execute_result"
    }
   ],
   "source": [
    "filedata >6"
   ]
  },
  {
   "cell_type": "code",
   "execution_count": null,
   "id": "f949d5a2-d002-4bcf-b252-c6e259d1a3d2",
   "metadata": {},
   "outputs": [],
   "source": []
  },
  {
   "cell_type": "code",
   "execution_count": null,
   "id": "ab8cf2bc-001f-4220-b01d-2edd7f72a141",
   "metadata": {},
   "outputs": [],
   "source": []
  },
  {
   "cell_type": "code",
   "execution_count": null,
   "id": "72691fc8-c48e-401d-9d84-6e2828c2acfd",
   "metadata": {},
   "outputs": [],
   "source": []
  }
 ],
 "metadata": {
  "kernelspec": {
   "display_name": "Python 3 (ipykernel)",
   "language": "python",
   "name": "python3"
  },
  "language_info": {
   "codemirror_mode": {
    "name": "ipython",
    "version": 3
   },
   "file_extension": ".py",
   "mimetype": "text/x-python",
   "name": "python",
   "nbconvert_exporter": "python",
   "pygments_lexer": "ipython3",
   "version": "3.11.7"
  }
 },
 "nbformat": 4,
 "nbformat_minor": 5
}
